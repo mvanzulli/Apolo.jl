{
 "cells": [
  {
   "cell_type": "markdown",
   "id": "adb6a5cf",
   "metadata": {
    "slideshow": {
     "slide_type": "slide"
    }
   },
   "source": [
    "![LOGO](https://user-images.githubusercontent.com/50339940/203682225-f5cc1c8e-8e33-4715-b3b1-a9123bb8b301.svg) \n",
    "\n",
    "## <span style=\"color:black\">  Apolo.jl: An end to end Package for sOlving materiaL identification prOblems. \n",
    "#### <span style=\"color:black\"> Mauricio Vanzulli -  IIMPI - Facultad de Ingeniería UdelaR\n",
    "#### <span style=\"color:black\"> Marcelo Forets -  DMA - Centro Universitario Regional del Este\n",
    "#### <span style=\"color:black\"> Jorge Pérez Zerpa -  IET - Facultad de Ingeniería UdelaR \n",
    "    \n"
   ]
  },
  {
   "cell_type": "markdown",
   "id": "07732758",
   "metadata": {
    "slideshow": {
     "slide_type": "notes"
    }
   },
   "source": [
    "to generate ppt\n",
    "```\n",
    "jupyter nbconvert Apolo_CCJ.ipynb --to slides --post serve\n",
    "```"
   ]
  },
  {
   "cell_type": "markdown",
   "id": "c23709f4",
   "metadata": {
    "slideshow": {
     "slide_type": "subslide"
    }
   },
   "source": [
    "\n",
    "![LOGO](https://user-images.githubusercontent.com/50339940/203682225-f5cc1c8e-8e33-4715-b3b1-a9123bb8b301.svg) \n",
    "### Outline:\n",
    "\n",
    "1. Motivation:\n",
    "1.  Problem statement:\n",
    "1. Implementation\n",
    "1. Usage(uniaxial extension)\n",
    "1. Preliminary conclusions and future work\n",
    "1. Questions\n"
   ]
  },
  {
   "cell_type": "markdown",
   "id": "b6491dc5",
   "metadata": {
    "slideshow": {
     "slide_type": "slide"
    }
   },
   "source": [
    "### Motivation:\n",
    "\n",
    "1. Nowadays there is no end-to-end Julia or Python package for solving material identification problems fully assembled with a FEM solver. \n",
    "1. The characterization of material properties (an inverse problem subtype) from image sequences is of paramount importance in assessing structural integrity.\n",
    "1. In biomecanics, the identification of constitutive properties is a diagnosis strategy in many applications.  \n",
    "1. In-vivo techniques of processing Magnetic Resonance Images (.MRI) demands a significant computational effort. This difficulty is a challenge for developing rapid or real-time simulations.\n",
    "\n",
    "    ![image](https://user-images.githubusercontent.com/50339940/203683099-e62328b5-be8c-4691-95ed-5813109581d8.png)"
   ]
  },
  {
   "cell_type": "markdown",
   "id": "2bba1d41",
   "metadata": {
    "slideshow": {
     "slide_type": "subslide"
    }
   },
   "source": [
    "### Which are the best material parameters of the following breast cancer FEM model?:\n",
    "\n",
    "![breastFEMModel](https://user-images.githubusercontent.com/50339940/203666661-c0e87404-625b-4ddc-a04f-cff23cc84736.png) \n",
    "\n"
   ]
  },
  {
   "cell_type": "markdown",
   "id": "7a6ad156",
   "metadata": {
    "slideshow": {
     "slide_type": "subslide"
    }
   },
   "source": [
    "    \n",
    "### Problem statement:\n",
    "\n",
    "1. The material identification problem consists of:\n",
    "    - Capture an image sequence (or any data) of the deformed and undeformed body. \n",
    "    - The subsequent optimization of the material constitutive parameters.\n",
    "\n",
    "$$ \tp^* = \\text{arg min } I(p), \n",
    "\t\\qquad\n",
    "\t\\text{problem: } \n",
    "\t\\left\\{\\begin{matrix}\n",
    "\t\t\\text{min } I(x_0, m(u(p)), m^{obs}  ) ~~ / ~~ x_0 \\in \\Omega_{ROI} \\\\ \n",
    "\t\tu(p) \\text { is sol of EP} .\n",
    "\t\\end{matrix}\\right.\n",
    "    $$\n",
    "    \n",
    "![MIP](https://user-images.githubusercontent.com/50339940/203667372-904e6334-8f6c-46d5-8118-e8822533b98f.png)  \n",
    "    "
   ]
  },
  {
   "cell_type": "markdown",
   "id": "2802fa32",
   "metadata": {
    "slideshow": {
     "slide_type": "slide"
    }
   },
   "source": [
    "## Apolo.jl design\n",
    "\n",
    "\n",
    "<img src=\"https://user-images.githubusercontent.com/50339940/203880941-79b91f8f-e587-497c-b850-02cf007bcab3.svg\" alt=\"drawing\" width=\"1000\"/>"
   ]
  },
  {
   "cell_type": "markdown",
   "id": "4fca5043",
   "metadata": {
    "slideshow": {
     "slide_type": "slide"
    }
   },
   "source": [
    "## Apolo.jl Geometry Interface\n",
    "\n",
    "```julia\n",
    "abstract type AbstractGrid{D,T} end\n",
    "\n",
    "abstract type AbstractStructuredGrid{D,T} <: AbstractGrid{D,T} end\n",
    "```\n",
    "The following methods are provided by the interface:\n",
    "- `∈ (p,grid)`        -- returns true if a point is inside a `grid`.\n",
    "- `∉ (p,grid)`        -- returns true if a point is outside a `grid`.\n",
    "- `boundary(grid)`    -- returns the `grid` boundaries.\n",
    "- `element_type(grid)`-- returns the element type of the `grid`.\n",
    "- `element_size(grid)`-- returns the element size of the `grid`.\n",
    "- `extrema(grid)`     -- returns a tuple of tuples containing max and min of each gird axis. In the general case this should return `((xₘᵢₙ, xₘₐₓ), (yₘᵢₙ, yₘₐₓ), (zₘᵢₙ, zₘₐₓ))`\n",
    "- `label_solid_grid!(gird,string, region)` -- labels a region of the `grid` with a `string`\n"
   ]
  },
  {
   "cell_type": "markdown",
   "id": "22e2f5ad",
   "metadata": {
    "slideshow": {
     "slide_type": "subslide"
    }
   },
   "source": [
    "- `finish(grid)`      -- returns the `grid` final point.\n",
    "- `grid(object)`      -- returns the `grid` of an object.\n",
    "- `node_type(grid)`   -- returns the type of each grid node.\n",
    "- `num_nodes(grid)`   -- returns the number of `grid` nodes.\n",
    "- `start(grid)`       -- returns the `grid` start point.\n",
    "\n",
    "``` julia\n",
    "FerriteStructuredGrid{D,E,T,V<:AbstractVector} <: AbstractStructuredGrid{D,T}\n",
    "```\n",
    "```julia\n",
    "function _convert_to_ferrite_nomenclature(mag::Array{T,D}, fgrid::FerriteStructuredGrid{D}) where {D,T<:Real}\n",
    "function _interpolate(vec_points::Vector{NTuple{DG,T}}, mag::Array{T,DM}, mag_symbol::Symbol, fgrid::FerriteStructuredGrid{DG}) where {DG,T,DM}\n",
    "```"
   ]
  },
  {
   "cell_type": "markdown",
   "id": "a7112603",
   "metadata": {
    "slideshow": {
     "slide_type": "slide"
    }
   },
   "source": [
    "## Apolo.jl Images Interface\n",
    "```julia\n",
    "abstract type AbstractImage{D,T,G} end\n",
    "```\n",
    "Abstract supertype for all images.\n",
    "\n",
    "The following methods are provided by the interface:\n",
    "\n",
    "- `finish_grid(img)`       -- returns the final point of the image grid.\n",
    "- `grid(img)`              -- returns the image grid.\n",
    "- `intensity(img)`         -- returns the intensity array of the image.\n",
    "- `intensity_type(img)`    -- returns the intensity data type.\n",
    "- `num_pixels(img)`            -- returns the image resolution in pixels.\n",
    "- `spacing(img)`           -- returns the space between pixels.\n",
    "- `start(img)`             -- returns the start point coordinates.\n",
    "- `start_grid(img)`        -- returns the start point of the image grid.\n"
   ]
  },
  {
   "cell_type": "markdown",
   "id": "798f9856",
   "metadata": {
    "slideshow": {
     "slide_type": "subslide"
    }
   },
   "source": [
    "\n",
    "```julia \n",
    "AnalyticImage{D,T,G<:Nothing} <: AbstractImage{D,T,G}\n",
    "```\n",
    "```julia \n",
    "FerriteImage{D,T,G<:FSG} <: AbstractImage{D,T,G}\n",
    "```\n",
    "```julia \n",
    "MedicalImage{T,D,I<:AbstractIntensity,G<:AbstractStructuredGrid} <: AbstractImage{D,T,G}\n",
    "```\n",
    "```julia\n",
    "VTKImage{D,T,I<:AbstractIntensity,G<:AbstractStructuredGrid} <: AbstractImage{D,T,G}\n",
    "```\n"
   ]
  },
  {
   "cell_type": "markdown",
   "id": "325a2676",
   "metadata": {
    "slideshow": {
     "slide_type": "subslide"
    }
   },
   "source": [
    "\n",
    "![MedicalImages](https://user-images.githubusercontent.com/50339940/203783713-ed09a7a9-4367-4bc5-b649-e75fc4fcd49d.png)  \n"
   ]
  },
  {
   "cell_type": "markdown",
   "id": "d2ba3d7d",
   "metadata": {
    "slideshow": {
     "slide_type": "slide"
    }
   },
   "source": [
    "## Apolo.jl Materials Interface\n",
    "---\n",
    "```julia\n",
    "abstract type AbstractParameter end\n",
    "\n",
    "```\n",
    "\n",
    "- `material(p)`                     -- returns the parmeter's material.\n",
    "- `has_material(p)`                 -- returns `true` if material of the parameter is assigned.\n",
    "- `label(p)`                        -- returns the label of the parameter `p`.\n",
    "- `ismissing(p)`                    -- returns `true` if the value of parameter `p` is missing.\n",
    "- `value(p)`                        -- returns the parameter `p` value.\n",
    "- `range(p)`                        -- returns the parameter `p` range.\n",
    "- `has_feasible_region(p)`          -- returns `true` if the parameter `p` has a constrained range defined.\n",
    "- `feasible_region(p)`              -- returns the feasible region for the parameter `p`.\n",
    "- `setval!(p, val)`                 -- sets the value `val` to the parameter `p`.\n",
    "- `set_feasible_region!(p, range)`  -- sets the limits (`p₁`, `p₂`) to the parameter `p`.\n",
    "- `setmaterial!(p, mlabel)`         -- sets the material label `mlabel` to the parameter `p`.\n",
    "Parameters implemented:\n",
    "```julia\n",
    "ConstitutiveParameter <: AbstractParameter\n",
    "```\n",
    "---"
   ]
  },
  {
   "cell_type": "markdown",
   "id": "99f2fc1d",
   "metadata": {
    "slideshow": {
     "slide_type": "subslide"
    }
   },
   "source": [
    "---\n",
    "```julia\n",
    "abstract type AbstractMaterial end\n",
    "\n",
    "```\n",
    "The following methods are provided by the interface:\n",
    "\n",
    "- `model(m)`              -- return a string with the material model (defaults to the materials' type label)\n",
    "- `parameters(m)`         -- return a tuple with the material parameters (defaults to the materials' fields which are of type `Parameter`)\n",
    "- `label(m)`           -- return material label\n",
    "- `getindex(m, plabel)`    -- return the index of the parameter with label `plabel` into the list of material `m` parameters.\n",
    "- `get(m, p)` or `m[:p]`  -- return the parameter `p` of the material `m`.\n",
    "- `value(m, plabel)`      -- return the value of the material parameter with label `plabel`.\n",
    "- `range(m, plabel)`    -- return the range of the material parameter with label `plabel`.\n",
    "- `set!(m, p)`            -- set parameter `p` into material `m`.\n",
    "- `setval!(m, p, pval)`   -- set value `pval` to parameter labeld `plabel` into material `m`.\n",
    "- `range(p)`           -- return the parameter `p` range.\n",
    "- `set_val(p, val)`       -- set the val `val` to the parameter `p`.\n",
    "- `set_range(p, range)`   -- set the range `range` to the parameter `p`.\n",
    "\n",
    "```julia\n",
    " mutable struct SVK <: AbstractMaterial\n",
    "```\n",
    "---\n"
   ]
  },
  {
   "cell_type": "markdown",
   "id": "9ebf98cd",
   "metadata": {
    "slideshow": {
     "slide_type": "slide"
    }
   },
   "source": [
    "## Forward Problem (FP) Interface\n",
    "\n",
    "---\n",
    "```julia\n",
    "abstract type AbstractDof{D} end\n",
    "```\n",
    "---\n",
    "```julia\n",
    "abstract type AbstractBoundaryCondition end\n",
    "```\n",
    "```julia\n",
    "struct DirichletBC <: AbstractBoundaryCondition\n",
    "```\n",
    "```julia\n",
    "struct NeumannLoadBC <: AbstractBoundaryCondition\n",
    "```\n",
    "---\n",
    "```julia\n",
    "abstract type AbstractForwardProblemSolver end\n",
    "```\n",
    "```julia\n",
    "struct FerriteForwardSolver < AbstractForwardProblemSolver\n",
    "```\n",
    "---\n",
    "```julia\n",
    "abstract type AbstractForwardProblemSolution end\n",
    "```\n",
    "Evaluator functor $\\phi(X_0)$\n",
    "```julia\n",
    "function (fsol::AbstractForwardProblemSolution)(vec_points::Vector{NTuple{D,T}}, offset::NTuple{D,T}=Tuple(zeros(T, D))\n",
    ")\n",
    "```"
   ]
  },
  {
   "cell_type": "markdown",
   "id": "ed749b2a",
   "metadata": {
    "slideshow": {
     "slide_type": "subslide"
    }
   },
   "source": [
    "### Cantilever beam example\n",
    "---\n",
    "```julia\n",
    "data_fem = FEMData(grid, dofs, bcs);\n",
    "```\n",
    "---\n",
    "```julia\n",
    "fproblem = LinearElasticityProblem(data_fem, mat)\n",
    "solver = FerriteForwardSolv(fproblem)\n",
    "gold_solution = solve(fproblem, solver);\n",
    "```\n",
    "---\n",
    "generate VTK via `VTKReader.jl`\n",
    "```julia\n",
    "tname = \"gold_sol\"\n",
    "tdir = \"./examples/uniaxial_extension/imgs/\"\n",
    "write_vtk_fsol(gold_solution, tdir, tname)\n",
    "```"
   ]
  },
  {
   "cell_type": "markdown",
   "id": "999fb22e",
   "metadata": {
    "slideshow": {
     "slide_type": "subslide"
    }
   },
   "source": [
    "\n",
    "VTK plot | Validation through (Zerpa, 2019) \n",
    "- | - \n",
    "<img src=\"https://user-images.githubusercontent.com/50339940/203830637-baf095cc-b059-441c-8e84-878c09d79900.png\" alt=\"drawing\" width=\"500\"/> | <img src=\"https://user-images.githubusercontent.com/50339940/203830901-ff421389-d07f-4002-8bff-f9261425d614.png\" alt=\"drawing\" width=\"500\"/>\n",
    "\n",
    "\n"
   ]
  },
  {
   "cell_type": "markdown",
   "id": "ee404dcd",
   "metadata": {
    "slideshow": {
     "slide_type": "slide"
    }
   },
   "source": [
    "## Inverse Problem (IP) Interface\n",
    "\n",
    "---\n",
    "```julia\n",
    "abstract type AbstractFunctional end\n",
    "```\n",
    "- `append_value!(f, val)`   -- appends the value `val` to functional value.\n",
    "- `append_trial!(f, trial)` -- appends the trial `trial` to functional trials.\n",
    "\n",
    "```julia\n",
    "MSEOpticalFlow{T,GT,HT} <: AbstractFunctional\n",
    "```\n",
    "---\n",
    "```julia\n",
    "abstract type AbstractDataMeasured{T} end\n",
    "```\n",
    "\n",
    "```julia\n",
    "ImageData{G<:AbstractStructuredGrid,Img<:AbstractImage,R,T<:AbstractVector} <: AbstractDataMeasured{Img}\n",
    "```\n"
   ]
  },
  {
   "cell_type": "markdown",
   "id": "46b98aa9",
   "metadata": {
    "slideshow": {
     "slide_type": "subslide"
    }
   },
   "source": [
    "---\n",
    "```julia\n",
    "abstract type AbstractInverseProblem end\n",
    "```\n",
    "Parameters vector with a `missing` value.\n",
    "```julia\n",
    "function unknown_parameters(iproblem::AbstractInverseProblem)\n",
    "```\n",
    "\n",
    "```julia\n",
    "MaterialIdentificationProblem{...} end \n",
    "```\n",
    "```julia\n",
    "function evaluate!(f::AbstractFunctional, invp::AbstractInverseProblem, candidate_params::CP, args...) where {CP} end\n",
    "```\n",
    "---\n",
    "```julia\n",
    "abstract type AbstractInverseProblemSolver end\n",
    "```\n",
    "```julia\n",
    "BruteForceInverseSolver <: AbstractInverseProblemSolver\n",
    "```\n",
    "```julia\n",
    "OptimizationJLInverseSolver{DIF} <: AbstractInverseProblemSolver\n",
    "```\n",
    "\n",
    "---\n",
    "```julia\n",
    "abstract type AbstractInverseProblemSolution end\n",
    "```"
   ]
  },
  {
   "cell_type": "markdown",
   "id": "dfef6dd4",
   "metadata": {
    "slideshow": {
     "slide_type": "slide"
    }
   },
   "source": [
    "## Uniaxial extension problem \n",
    "<img src=\"https://user-images.githubusercontent.com/50339940/202585140-404e1d78-4196-4107-9e2a-34d680f26574.png\" alt=\"drawing\" width=\"500\"/>\n",
    "<img src=\"https://user-images.githubusercontent.com/50339940/202584960-511cc610-b8b7-4344-a578-03f943f88326.png\" alt=\"drawing\" width=\"500\"/>"
   ]
  },
  {
   "cell_type": "markdown",
   "id": "a968b51a",
   "metadata": {
    "slideshow": {
     "slide_type": "subslide"
    }
   },
   "source": [
    "## Reference and deformed configurations:\n",
    "- Unknown parameter $p = E$\n",
    "- Analytic solution for the displacements field (Plan stress state) $\\phi(x_0) = f(x_0,t, p)$\n",
    "- Synthetic images sequence generated considering Optical flow $I^{ref}(x_0,t_0) = I^{def}(\\phi(x_0),t)$ and $p = E_r = 2$ MPa\n",
    "- MSE error functional \n",
    "\n",
    "$$ \n",
    "\tF(u(p)) = \n",
    "\t\\frac{1}{2} \\int_{0}^{T}  \\int_{\\Omega_{ROI}} \n",
    "\t\\left [   I \\left( x_0 + u(x_0,p, t),t\\right )\n",
    "\t- \n",
    "\tI(x_0,t) \\right ] ^2 \n",
    "\t~d\\Omega dt.\n",
    "$$"
   ]
  },
  {
   "cell_type": "markdown",
   "id": "365a225e",
   "metadata": {
    "slideshow": {
     "slide_type": "subslide"
    }
   },
   "source": [
    "## Brute-force algorithm\n",
    "---\n",
    "```julia\n",
    "setval!(E, missing)\n",
    "mse = MSEOpticalFlow()\n",
    "invp = MaterialIdentificationProblem(\n",
    "    lep_fproblem, ferrite_sovlver, img_data, mse, in_roi_func\n",
    ")\n",
    "bf_alg = BruteForceInverseSolver(NUM_PARAMS_E)\n",
    "isol_bf = solve(invp, bf_alg)\n",
    "```\n",
    "---\n",
    "```julia\n",
    "fvalues_apolo_bf = functional_values(isol_bf)\n",
    "trials_apolo_bf = functional_trials(isol_bf)\n",
    "mats_iden = materials(isol_bf)\n",
    "svk_iden = mats_iden[1]\n",
    "E_value_bf = value(svk_iden[:E])\n",
    "```\n",
    "---\n",
    "```julia\n",
    "@test E_value_optim ≈ Eᵣ rtol = 1e-2\n",
    "```"
   ]
  },
  {
   "cell_type": "markdown",
   "id": "0d562dd5",
   "metadata": {
    "slideshow": {
     "slide_type": "subslide"
    }
   },
   "source": [
    "## Probabilistic descent algorithm\n",
    "---\n",
    "```julia\n",
    "setval!(E, missing)\n",
    "mse = MSEOpticalFlow()\n",
    "invp = MaterialIdentificationProblem(\n",
    "    lep_fproblem, ferrite_sovlver, img_data, mse, in_roi_func\n",
    ")\n",
    "inv_optim_solver = OptimizationJLInverseSolver(max_iter=3, max_time=0.4)\n",
    "grad_free_alg = BBO_probabilistic_descent()\n",
    "isol_optim = solve(invp, inv_optim_solver, grad_free_alg)\n",
    "```\n",
    "---\n",
    "```julia\n",
    "fvalues_optim = functional_values(isol_optim)\n",
    "trials_optim = functional_trials(isol_optim)\n",
    "mats_iden = materials(isol_optim)\n",
    "svk_iden = mats_iden[1]\n",
    "E_value_optim = value(svk_iden[:E])\n",
    "```\n",
    "---\n",
    "```julia\n",
    "@test E_value_optim ≈ Eᵣ rtol = 1e-2\n",
    "```"
   ]
  },
  {
   "cell_type": "markdown",
   "id": "1c4e32ce",
   "metadata": {
    "slideshow": {
     "slide_type": "subslide"
    }
   },
   "source": [
    "## Functional reconstruction and trails $F(E)$: \n",
    "\n",
    "![Uniaxial](https://user-images.githubusercontent.com/50339940/202584947-4d2f9a5e-f4d1-46f2-bbe7-af3c7416468a.png)  "
   ]
  },
  {
   "cell_type": "markdown",
   "id": "afd24f02",
   "metadata": {
    "slideshow": {
     "slide_type": "slide"
    }
   },
   "source": [
    "## Preliminary conclusions \n",
    "\n",
    "- A first implementation of an **open-source** package for solving inverse problems has been implemented.\n",
    "- **Generic interfaces** using grids, images forward and inverse problem solvers are provided by Apolo.jl.\n",
    "- A very simple material identification problem, considering a linear elastic material was **validated**.\n",
    "---\n",
    "## Future work \n",
    "- Include generic regions as a set of elements (to model ROI).\n",
    "- Performance analysis. Improve image interpolation **performance**. \n",
    "- Add a GMSH interface to define geometries. \n",
    "- Include a non-linear hyperelastic element to model biological tissues. \n"
   ]
  },
  {
   "cell_type": "markdown",
   "id": "65275563",
   "metadata": {
    "slideshow": {
     "slide_type": "subslide"
    }
   },
   "source": [
    "\n",
    "## Questions \n",
    "![image](https://user-images.githubusercontent.com/50339940/203842039-cef71828-a95e-48ac-9c65-15545a023283.png)\n"
   ]
  }
 ],
 "metadata": {
  "celltoolbar": "Slideshow",
  "kernelspec": {
   "display_name": "Python 3 (ipykernel)",
   "language": "python",
   "name": "python3"
  },
  "language_info": {
   "codemirror_mode": {
    "name": "ipython",
    "version": 3
   },
   "file_extension": ".py",
   "mimetype": "text/x-python",
   "name": "python",
   "nbconvert_exporter": "python",
   "pygments_lexer": "ipython3",
   "version": "3.10.8"
  }
 },
 "nbformat": 4,
 "nbformat_minor": 5
}
